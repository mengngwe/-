{
 "cells": [
  {
   "cell_type": "code",
   "execution_count": null,
   "metadata": {},
   "outputs": [],
   "source": [
    "import os\n",
    "import copy\n",
    "import math\n",
    "import random\n",
    "import numpy as np\n",
    "import pandas as pd\n",
    "import matplotlib.pyplot as plt\n",
    "import statsmodels.api as sm\n",
    "import arch \n",
    "from arch import arch_model\n",
    "from statsmodels.tsa.stattools import adfuller\n",
    "from statsmodels.tsa.arima.model import ARIMA\n",
    "from statsmodels.graphics.tsaplots import plot_acf, plot_pacf"
   ]
  },
  {
   "cell_type": "code",
   "execution_count": null,
   "metadata": {},
   "outputs": [],
   "source": [
    "sp500 = pd.read_csv('SP500_19900102_20221231.csv')[['caldt', 'vwretd']].set_index('caldt')\n"
   ]
  },
  {
   "cell_type": "code",
   "execution_count": null,
   "metadata": {},
   "outputs": [],
   "source": [
    "# 设置滚动窗口的大小和步长，window_size分别设置为126、500、1000、2000，再分别保存到对应位置，csv文件后缀修改为对应的窗口大小\n",
    "window_size = 2000\n",
    "step_size = 1\n",
    "\n",
    "# 存储预测结果的列表\n",
    "outsampleprediction = []\n",
    "for i in range(window_size, len(sp500), step_size):\n",
    "    # 获取当前窗口的数据\n",
    "    window_data = sp500.iloc[i - window_size:i]\n",
    "    scale_mean = window_data.values.mean()\n",
    "    scale_std = window_data.values.std()\n",
    "    series_scaled = (window_data - scale_mean) / scale_std\n",
    "    # ARIMA模型的预测\n",
    "    arima_model = ARIMA(series_scaled, order=(1, 0, 1))\n",
    "    arima_result = arima_model.fit()\n",
    "    outsamplepredict = arima_result.forecast(steps=1)\n",
    "    arima_predict = outsamplepredict.values[0] * scale_std + scale_mean\n",
    "    # 预测ARIMA模型的残差\n",
    "    residuals = arima_result.resid\n",
    "    residuals = residuals * scale_std + scale_mean\n",
    "    # 对残差进行GARCH(1,1)建模\n",
    "    garch_model = arch_model(residuals, vol='Garch', p=1, q=1)\n",
    "    results_garch = garch_model.fit()\n",
    "    # 生成GARCH模型的样本外预测\n",
    "    garch_forecast = results_garch.forecast(horizon=1)\n",
    "    mean_forecast = garch_forecast.mean.iloc[-1, 0]\n",
    "    # 计算样本外预测值\n",
    "    outsample_predict = arima_predict + mean_forecast\n",
    "\n",
    "    # 将预测结果添加到列表中\n",
    "    outsampleprediction.append(outsample_predict)\n",
    "    print(f\"Predicting Day {i}...\")\n",
    "\n",
    "# 将预测结果添加到原始数据中\n",
    "sp500['outpredictions'] = [None] * window_size + outsampleprediction"
   ]
  },
  {
   "cell_type": "code",
   "execution_count": null,
   "metadata": {},
   "outputs": [],
   "source": [
    "sp500.to_csv('arima-garch.results/arima-garch2000.csv', index=True)"
   ]
  }
 ],
 "metadata": {
  "kernelspec": {
   "display_name": "pytorch",
   "language": "python",
   "name": "python3"
  },
  "language_info": {
   "codemirror_mode": {
    "name": "ipython",
    "version": 3
   },
   "file_extension": ".py",
   "mimetype": "text/x-python",
   "name": "python",
   "nbconvert_exporter": "python",
   "pygments_lexer": "ipython3",
   "version": "3.8.0"
  }
 },
 "nbformat": 4,
 "nbformat_minor": 2
}
